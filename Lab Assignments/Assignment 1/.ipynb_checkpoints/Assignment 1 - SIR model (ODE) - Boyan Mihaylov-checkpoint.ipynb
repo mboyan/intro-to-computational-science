{
 "cells": [
  {
   "cell_type": "markdown",
   "id": "f9e36590",
   "metadata": {},
   "source": [
    "# Assignment 1 - SIR model (ODE)\n",
    "## Student: Boyan Mihaylov\n",
    "\n",
    "This notebook contains the code used in conducting the experiments and obtaining the results described in the report for Assignment 1 of the course \"Introduction to Computational Science\"."
   ]
  },
  {
   "cell_type": "markdown",
   "id": "0bd754bc",
   "metadata": {},
   "source": [
    "### 1. Prerequisites\n",
    "\n",
    "The following code imports the relavant libraries for the calculations:"
   ]
  },
  {
   "cell_type": "code",
   "execution_count": 4,
   "id": "dfe216d5",
   "metadata": {},
   "outputs": [],
   "source": [
    "# import libraries\n",
    "import numpy as np\n",
    "import matplotlib.pyplot as plt"
   ]
  },
  {
   "cell_type": "markdown",
   "id": "a8e9f978",
   "metadata": {},
   "source": [
    "### 2. The SIR Class\n",
    "\n",
    "Next the SIR model is defined as a Python class, which will contain all the relevant input data for a specific disease, so that the outcomes of different diseases can be easily compared.\n",
    "\n",
    "### 2.1. Initialization Function\n",
    "At the initialization of the class, the values of $\\beta$ (infection rate) and $\\gamma$ (recovery rate) which will be used in the further calculations will be derived from \"real-life\" values as described in [1](#references) (p.17-18).\n",
    "\n",
    "The definitions are as follows:\n",
    "\n",
    "$\\beta = -\\kappa ln(1-C)$, where $\\kappa$ is the number of individual contacts per unit time and $C$ is the probability of infection in the case of an infected contact.\n",
    "\n",
    "$\\gamma = 1/P_i$ where $P_i$ is the period of infection.\n",
    "\n",
    "The parameters $k$, $C$ and $P_i$ will be written down in the code as `k`, `c` and `pinf` respectively.\n",
    "\n",
    "Additionally, the population data will be initialized in the same function. The number of susceptible individuals $X$, infected ones $Y$ and recovered ones $Z$ will be available as optional arguments, which can either be user-defined or follow default values. The sum of the three quantities forms the population size $N$ and all of these values are then used to calculate the proportions of susceptibles $S$, infected $I$ and recovered $R$.\n",
    "\n",
    "### 2.2. Differential equations\n",
    "The system of differential equations governing the dynamics of the model will be defined in a special function called `SIR_nd` standing for \"SIR model, no demography\", which iterates over the clas-specific $S$, $I$ and $R$ variables, updates and returns their corresponding derivatives.\n",
    "\n",
    "This module is created with the purpose to be exchanged in case a different dynamic system is to be used. The current equations are:\n",
    "\n",
    "$$\n",
    "\\frac{dS}{dt}=-\\beta S I\\\\\n",
    "\\frac{dI}{dt}= \\beta S I - \\gamma I\\\\\n",
    "\\frac{dR}{dt}= \\gamma I\n",
    "$$\n",
    "\n",
    "The function for the differential equations is stored as a class variable upon initialization."
   ]
  },
  {
   "cell_type": "code",
   "execution_count": 8,
   "id": "bcbd69c6",
   "metadata": {},
   "outputs": [],
   "source": [
    "class SIR:\n",
    "    \n",
    "    # iteration step\n",
    "    step = 10e6\n",
    "    \n",
    "    def _init_(self, k, c, pinf, X=999, Y=1, R=0):\n",
    "        \n",
    "        self.beta = -k*math.log(1-c)\n",
    "        self.gamma = 1/pinf\n",
    "        \n",
    "        self.N = X+Y+Z\n",
    "        self.S = X/self.N\n",
    "        self.I = Y/self.N\n",
    "        self.R = Z/self.N\n",
    "        \n",
    "        self.ode = self.SIR_nd\n",
    "        \n",
    "    def SIR_nd(self):\n",
    "        \n",
    "        self.dS = -self.beta*self.S*self.I\n",
    "        self.dI = self.beta*self.S*self.I - self.gamma-self.I\n",
    "        self.dR = self.gamma*self.I\n",
    "        \n",
    "        return np.array([self.dS, self.dI, self.dR])\n",
    "        \n",
    "    def iterate(self):\n",
    "        \n",
    "        return runge_kutta(self.ode, np.array([self.S,self.I,self.R]),step)\n",
    "        \n",
    "    def runge_kutta(fun, x, step):\n",
    "        \n",
    "        k1 = fun(x)*step\n",
    "        k2 = fun(x+0.5*k1)*step\n",
    "        k3 = fun(x+0.5*k2)*step\n",
    "        k4 = fun(x+k3)*step\n",
    "        return x + (k1+2*k2+2*k3+k4)/6"
   ]
  },
  {
   "cell_type": "code",
   "execution_count": 9,
   "id": "1bc48ecb",
   "metadata": {},
   "outputs": [
    {
     "ename": "TypeError",
     "evalue": "SIR() takes no arguments",
     "output_type": "error",
     "traceback": [
      "\u001b[1;31m---------------------------------------------------------------------------\u001b[0m",
      "\u001b[1;31mTypeError\u001b[0m                                 Traceback (most recent call last)",
      "Cell \u001b[1;32mIn[9], line 1\u001b[0m\n\u001b[1;32m----> 1\u001b[0m SIR_01 \u001b[38;5;241m=\u001b[39m \u001b[43mSIR\u001b[49m\u001b[43m(\u001b[49m\u001b[38;5;241;43m8\u001b[39;49m\u001b[43m,\u001b[49m\u001b[43m \u001b[49m\u001b[38;5;241;43m0.25\u001b[39;49m\u001b[43m)\u001b[49m\n\u001b[0;32m      3\u001b[0m \u001b[38;5;28mprint\u001b[39m(SIR_01)\u001b[38;5;241m.\u001b[39miterate()\n",
      "\u001b[1;31mTypeError\u001b[0m: SIR() takes no arguments"
     ]
    }
   ],
   "source": [
    "SIR_01 = SIR(8, 0.25)\n",
    "\n",
    "print(SIR_01).iterate()"
   ]
  },
  {
   "cell_type": "markdown",
   "id": "7969899b",
   "metadata": {},
   "source": [
    "<a id='references'></a>\n",
    "[1] Matt J. Keeling, Pejman Rohani - Modeling Infectious Diseases in Humans and Animals (2007, Princeton University Press)"
   ]
  }
 ],
 "metadata": {
  "kernelspec": {
   "display_name": "Python 3 (ipykernel)",
   "language": "python",
   "name": "python3"
  },
  "language_info": {
   "codemirror_mode": {
    "name": "ipython",
    "version": 3
   },
   "file_extension": ".py",
   "mimetype": "text/x-python",
   "name": "python",
   "nbconvert_exporter": "python",
   "pygments_lexer": "ipython3",
   "version": "3.10.9"
  }
 },
 "nbformat": 4,
 "nbformat_minor": 5
}
