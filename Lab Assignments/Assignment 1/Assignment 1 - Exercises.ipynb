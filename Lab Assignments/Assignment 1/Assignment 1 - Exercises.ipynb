{
 "cells": [
  {
   "cell_type": "markdown",
   "id": "15a7cfe7",
   "metadata": {},
   "source": [
    "# Naive SIR model (without demographics)"
   ]
  },
  {
   "cell_type": "code",
   "execution_count": 84,
   "id": "09e48182",
   "metadata": {},
   "outputs": [],
   "source": [
    "# import libraries\n",
    "import numpy as np\n",
    "import matplotlib.pyplot as plt"
   ]
  },
  {
   "cell_type": "code",
   "execution_count": 85,
   "id": "2f33f8aa",
   "metadata": {},
   "outputs": [],
   "source": [
    "# infection and recovery rates (include a legend in report)\n",
    "rlambda = 0.01\n",
    "rgamma = 0.2"
   ]
  },
  {
   "cell_type": "code",
   "execution_count": 86,
   "id": "07b98fd2",
   "metadata": {},
   "outputs": [],
   "source": [
    "# population size\n",
    "N = 1000\n",
    "\n",
    "# starting number of susceptible (X), infected (Y) and recovered (Z)\n",
    "Y0 = 1\n",
    "X0 = N - Y0\n",
    "Z0 = 0\n",
    "\n",
    "XYZ = [X0, Y0, Z0]"
   ]
  },
  {
   "cell_type": "code",
   "execution_count": 87,
   "id": "bde168ef",
   "metadata": {},
   "outputs": [],
   "source": [
    "# delta t\n",
    "step = 0.01\n",
    "\n",
    "# run iterations\n",
    "run_iter = 100000\n",
    "\n",
    "# iteration function\n",
    "def iterate(X_in, Y_in, Z_in, rl, rg):\n",
    "    delta_x = -rl*X_in\n",
    "    delta_y = rl*X_in - rg*Y_in\n",
    "    delta_z = rg*Y_in\n",
    "    # Simple Euler method\n",
    "    X_out = X_in + delta_x*step\n",
    "    Y_out = Y_in + delta_y*step\n",
    "    Z_out = Z_in + delta_z*step\n",
    "    return [X_out, Y_out, Z_out]"
   ]
  },
  {
   "cell_type": "code",
   "execution_count": 89,
   "id": "b0ce39f4",
   "metadata": {},
   "outputs": [],
   "source": [
    "#%%timeit\n",
    "\n",
    "XYZ_track = np.array([XYZ])\n",
    "for i in range(run_iter):\n",
    "    #print(XYZ)\n",
    "    XYZ_current = iterate(XYZ[0], XYZ[1], XYZ[2], rlambda, rgamma)\n",
    "    XYZ_track = np.append(XYZ_track, [XYZ_current], axis=0)\n",
    "    XYZ = XYZ_current"
   ]
  },
  {
   "cell_type": "code",
   "execution_count": 90,
   "id": "bc02b637",
   "metadata": {},
   "outputs": [
    {
     "data": {
      "text/plain": [
       "[<matplotlib.lines.Line2D at 0x2341481fcd0>]"
      ]
     },
     "execution_count": 90,
     "metadata": {},
     "output_type": "execute_result"
    },
    {
     "data": {
      "image/png": "[encoded data removed]",
      "text/plain": [
       "<Figure size 640x480 with 1 Axes>"
      ]
     },
     "metadata": {},
     "output_type": "display_data"
    }
   ],
   "source": [
    "np.shape(XYZ_track)\n",
    "#print(XYZ_track)\n",
    "#print(np.transpose(XYZ_track))\n",
    "\n",
    "##for xyz in XYZ_track:\n",
    "##    print(xyz[0]+xyz[1]+xyz[2])\n",
    "\n",
    "plt.plot(np.transpose(XYZ_track)[1])"
   ]
  },
  {
   "cell_type": "code",
   "execution_count": null,
   "id": "2397f2ce",
   "metadata": {},
   "outputs": [],
   "source": []
  }
 ],
 "metadata": {
  "kernelspec": {
   "display_name": "Python 3 (ipykernel)",
   "language": "python",
   "name": "python3"
  },
  "language_info": {
   "codemirror_mode": {
    "name": "ipython",
    "version": 3
   },
   "file_extension": ".py",
   "mimetype": "text/x-python",
   "name": "python",
   "nbconvert_exporter": "python",
   "pygments_lexer": "ipython3",
   "version": "3.10.9"
  }
 },
 "nbformat": 4,
 "nbformat_minor": 5
}
