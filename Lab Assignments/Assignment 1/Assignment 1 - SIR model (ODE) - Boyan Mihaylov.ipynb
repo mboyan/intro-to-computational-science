{
 "cells": [
  {
   "cell_type": "markdown",
   "id": "f9e36590",
   "metadata": {},
   "source": [
    "# Assignment 1 - SIR model (ODE)\n",
    "## Student: Boyan Mihaylov\n",
    "\n",
    "This notebook contains the code used in conducting the experiments and obtaining the results described in the report for Assignment 1 of the course \"Introduction to Computational Science\"."
   ]
  }
 ],
 "metadata": {
  "kernelspec": {
   "display_name": "Python 3 (ipykernel)",
   "language": "python",
   "name": "python3"
  },
  "language_info": {
   "codemirror_mode": {
    "name": "ipython",
    "version": 3
   },
   "file_extension": ".py",
   "mimetype": "text/x-python",
   "name": "python",
   "nbconvert_exporter": "python",
   "pygments_lexer": "ipython3",
   "version": "3.10.9"
  }
 },
 "nbformat": 4,
 "nbformat_minor": 5
}
