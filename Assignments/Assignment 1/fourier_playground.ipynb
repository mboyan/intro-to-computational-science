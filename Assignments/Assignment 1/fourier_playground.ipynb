{
 "cells": [
  {
   "cell_type": "markdown",
   "id": "9f951db7",
   "metadata": {},
   "source": [
    "## Fourier Playground\n",
    "*Author: Teun Mathijssen*\n",
    "\n",
    "Play with the parameters of a wave and see its corresponding Fourier transform and frequency spectrum.\n",
    "\n",
    "Requires `conda install numpy scipy ipywidgets matplotlib`"
   ]
  },
  {
   "cell_type": "code",
   "execution_count": 1,
   "id": "8b47a7fd",
   "metadata": {},
   "outputs": [],
   "source": [
    "import numpy as np\n",
    "from scipy.fft import fft, fftfreq, fftshift\n",
    "\n",
    "import ipywidgets as widgets\n",
    "import matplotlib.pyplot as plt"
   ]
  },
  {
   "cell_type": "code",
   "execution_count": 2,
   "id": "b916ca35",
   "metadata": {
    "scrolled": false
   },
   "outputs": [
    {
     "data": {
      "application/vnd.jupyter.widget-view+json": {
       "model_id": "60f638643eb24d8f89107011d1d37891",
       "version_major": 2,
       "version_minor": 0
      },
      "text/plain": [
       "interactive(children=(FloatSlider(value=1.0, description='a', layout=Layout(width='80%'), max=4.0), FloatSlide…"
      ]
     },
     "metadata": {},
     "output_type": "display_data"
    }
   ],
   "source": [
    "def plot_wave(a, b, c, d):\n",
    "    \"\"\"Plot cosine wave with amplitude a, frequency b,\n",
    "    phase c and offset d. Also plot its Fourier transform and\n",
    "    real frequency spectrum.\"\"\"\n",
    "    nPoints = 125 # Should be odd because of linspace\n",
    "    tMin = -3\n",
    "    tMax = 3\n",
    "    \n",
    "    # Sample a cosine wave\n",
    "    ts = np.linspace(tMin, tMax, nPoints)\n",
    "    ys = a*np.cos(b*2*np.pi*ts - c) + d\n",
    "    \n",
    "    # Normalize using 'forward' to compensate for number of samples\n",
    "    fourier = fftshift(fft(ys, norm='forward'))\n",
    "    # Use dt to determine correct frequencies\n",
    "    dt = (tMax - tMin) / nPoints\n",
    "    freq = fftshift(fftfreq(nPoints, d=dt))\n",
    "    \n",
    "    # To preserve amplitudes (we show half the spectrum), we need to compensate\n",
    "    comp = 2\n",
    "    spectrum = comp*np.abs(fourier)\n",
    "    centerIdx = nPoints//2\n",
    "    spectrum[centerIdx] /= comp\n",
    "    \n",
    "    fig = plt.figure(figsize=(8, 7))\n",
    "    \n",
    "    ax = fig.add_subplot(311)\n",
    "    ax.set_title('Plot of f over time')\n",
    "    ax.set_xlabel('time (s)')\n",
    "    ax.set_ylabel('amplitude')\n",
    "    ax.set_ylim([-4, 4])\n",
    "    ax.grid()\n",
    "    ax.axhline(d, c='gray', linestyle='--')\n",
    "    ax.plot(ts, ys, c='k', label='f')\n",
    "    ax.legend()\n",
    "    \n",
    "    ax = fig.add_subplot(312)\n",
    "    ax.set_title('Complex frequency spectrum of f')\n",
    "    ax.set_xlabel('frequency (Hz)')\n",
    "    ax.set_ylabel('amplitude')\n",
    "    ax.set_xlim([-4, 4])\n",
    "    ax.set_ylim([-4, 4])\n",
    "    ax.grid()\n",
    "    ax.plot(freq, np.real(fourier), c='blue', label='real(f)')\n",
    "    ax.plot(freq, np.imag(fourier), c='orange', label='imag(f)')\n",
    "    ax.legend()\n",
    "    \n",
    "    ax = fig.add_subplot(313)\n",
    "    ax.set_title('Frequency spectrum of f')\n",
    "    ax.set_xlabel('frequency (Hz)')\n",
    "    ax.set_ylabel('amplitude')\n",
    "    ax.set_xlim([0, 4])\n",
    "    ax.set_ylim([0, 4])\n",
    "    ax.grid()\n",
    "    ax.plot(freq, spectrum, c='k', label='f')\n",
    "    ax.legend()\n",
    "    \n",
    "    plt.tight_layout()\n",
    "    plt.show()\n",
    "\n",
    "# Add slider widgets\n",
    "widgetLayout = widgets.Layout(width='80%')\n",
    "widgets.interact(plot_wave,\n",
    "         a=widgets.FloatSlider(min=0, max=4, step=0.1, value=1, layout=widgetLayout),\n",
    "         b=widgets.FloatSlider(min=0, max=3, step=0.1, value=1, layout=widgetLayout),\n",
    "         c=widgets.FloatSlider(min=-3.14, max=3.14, step=0.02, value=0, layout=widgetLayout),\n",
    "         d=widgets.FloatSlider(min=-4, max=4, step=0.1, value=0, layout=widgetLayout)\n",
    "        );"
   ]
  },
  {
   "cell_type": "code",
   "execution_count": null,
   "id": "ec5d7516",
   "metadata": {},
   "outputs": [],
   "source": []
  }
 ],
 "metadata": {
  "kernelspec": {
   "display_name": "Python 3 (ipykernel)",
   "language": "python",
   "name": "python3"
  },
  "language_info": {
   "codemirror_mode": {
    "name": "ipython",
    "version": 3
   },
   "file_extension": ".py",
   "mimetype": "text/x-python",
   "name": "python",
   "nbconvert_exporter": "python",
   "pygments_lexer": "ipython3",
   "version": "3.11.4"
  }
 },
 "nbformat": 4,
 "nbformat_minor": 5
}
