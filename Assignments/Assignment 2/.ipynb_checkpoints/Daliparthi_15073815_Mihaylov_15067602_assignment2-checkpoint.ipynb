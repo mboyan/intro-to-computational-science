{
 "cells": [
  {
   "cell_type": "markdown",
   "id": "cea21469",
   "metadata": {},
   "source": [
    "# Introduction to Computational Science: Assignment 2\n",
    "# Stochastic and Spatial Models\n",
    "## Boyan Mihaylov & Sai Vinay Vardhan Daliparthi\n",
    "\n",
    "This notebook documents the code used for the experiments conducted for Assignment 2 of the course \"Introduction to Computational Science\".\n",
    "\n",
    "The relevant libraries are imported below:"
   ]
  },
  {
   "cell_type": "code",
   "execution_count": 1,
   "id": "d7fdf291",
   "metadata": {},
   "outputs": [],
   "source": [
    "import math\n",
    "import numpy as np\n",
    "import matplotlib.pyplot as plt\n",
    "import seaborn as sns"
   ]
  },
  {
   "cell_type": "markdown",
   "id": "a6f57e39",
   "metadata": {},
   "source": [
    "### 1. Integration of Gillespie's Algorithm"
   ]
  },
  {
   "cell_type": "code",
   "execution_count": null,
   "id": "aea8bb23",
   "metadata": {},
   "outputs": [],
   "source": []
  }
 ],
 "metadata": {
  "kernelspec": {
   "display_name": "Python 3 (ipykernel)",
   "language": "python",
   "name": "python3"
  },
  "language_info": {
   "codemirror_mode": {
    "name": "ipython",
    "version": 3
   },
   "file_extension": ".py",
   "mimetype": "text/x-python",
   "name": "python",
   "nbconvert_exporter": "python",
   "pygments_lexer": "ipython3",
   "version": "3.10.9"
  }
 },
 "nbformat": 4,
 "nbformat_minor": 5
}
